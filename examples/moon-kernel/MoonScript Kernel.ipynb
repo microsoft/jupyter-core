{
 "cells": [
  {
   "cell_type": "code",
   "execution_count": 1,
   "metadata": {},
   "outputs": [
    {
     "data": {
      "application/json": "4.0",
      "text/markdown": [
       "`4`"
      ],
      "text/plain": [
       "4"
      ]
     },
     "execution_count": 1,
     "metadata": {},
     "output_type": "execute_result"
    }
   ],
   "source": [
    "return 1 + 3"
   ]
  },
  {
   "cell_type": "code",
   "execution_count": 2,
   "metadata": {},
   "outputs": [
    {
     "data": {
      "application/json": "120.0",
      "text/markdown": [
       "`120`"
      ],
      "text/plain": [
       "120"
      ]
     },
     "execution_count": 2,
     "metadata": {},
     "output_type": "execute_result"
    }
   ],
   "source": [
    "-- defines a factorial function\n",
    "    function fact (n)\n",
    "        if (n == 0) then\n",
    "            return 1\n",
    "        else\n",
    "            return n*fact(n - 1)\n",
    "        end\n",
    "    end\n",
    "\n",
    "    return fact(5)"
   ]
  },
  {
   "cell_type": "code",
   "execution_count": 3,
   "metadata": {},
   "outputs": [
    {
     "data": {
      "application/json": "{\"@closure\":\"MoonSharp.Interpreter.Closure\"}",
      "text/markdown": [
       "`(Function 00000074)`"
      ],
      "text/plain": [
       "(Function 00000074)"
      ]
     },
     "execution_count": 3,
     "metadata": {},
     "output_type": "execute_result"
    }
   ],
   "source": [
    "return fact"
   ]
  },
  {
   "cell_type": "code",
   "execution_count": 4,
   "metadata": {},
   "outputs": [
    {
     "data": {
      "application/json": "[\"return 1 + 3\",\"-- defines a factorial function\\n    function fact (n)\\n        if (n == 0) then\\n            return 1\\n        else\\n            return n*fact(n - 1)\\n        end\\n    end\\n\\n    return fact(5)\",\"return fact\",\"%history\"]",
      "text/html": [
       "<ul><li>return 1 + 3</li><li>-- defines a factorial function\n",
       "    function fact (n)\n",
       "        if (n == 0) then\n",
       "            return 1\n",
       "        else\n",
       "            return n*fact(n - 1)\n",
       "        end\n",
       "    end\n",
       "\n",
       "    return fact(5)</li><li>return fact</li><li>%history</li></ul>"
      ],
      "text/markdown": [
       "- return 1 + 3\n",
       "- -- defines a factorial function\n",
       "    function fact (n)\n",
       "        if (n == 0) then\n",
       "            return 1\n",
       "        else\n",
       "            return n*fact(n - 1)\n",
       "        end\n",
       "    end\n",
       "\n",
       "    return fact(5)\n",
       "- return fact\n",
       "- %history"
      ],
      "text/plain": [
       "return 1 + 3, -- defines a factorial function\n",
       "    function fact (n)\n",
       "        if (n == 0) then\n",
       "            return 1\n",
       "        else\n",
       "            return n*fact(n - 1)\n",
       "        end\n",
       "    end\n",
       "\n",
       "    return fact(5), return fact, %history"
      ]
     },
     "execution_count": 4,
     "metadata": {},
     "output_type": "execute_result"
    }
   ],
   "source": [
    "%history"
   ]
  },
  {
   "cell_type": "code",
   "execution_count": 5,
   "metadata": {},
   "outputs": [
    {
     "data": {
      "application/json": "720.0",
      "text/markdown": [
       "`720`"
      ],
      "text/plain": [
       "720"
      ]
     },
     "execution_count": 5,
     "metadata": {},
     "output_type": "execute_result"
    }
   ],
   "source": [
    "return fact(6)"
   ]
  },
  {
   "cell_type": "code",
   "execution_count": 6,
   "metadata": {},
   "outputs": [
    {
     "name": "stdout",
     "output_type": "stream",
     "text": [
      "Hello, world"
     ]
    }
   ],
   "source": [
    "print('Hello, world')"
   ]
  },
  {
   "cell_type": "code",
   "execution_count": 7,
   "metadata": {},
   "outputs": [
    {
     "data": {
      "application/json": "{\"Name\":\"%history\",\"Kind\":0,\"Documentation\":{\"Full\":null,\"Summary\":\"Displays a list of commands run so far this session.\"}}",
      "text/html": [
       "<h4><i class=\"fa fas fa-magic\"></i> %history</h4><p>Displays a list of commands run so far this session.</p>"
      ],
      "text/markdown": [
       "`Microsoft.Jupyter.Core.MagicSymbol`"
      ],
      "text/plain": [
       "%history:\n",
       "Displays a list of commands run so far this session."
      ]
     },
     "execution_count": 7,
     "metadata": {},
     "output_type": "execute_result"
    }
   ],
   "source": [
    "%history?"
   ]
  },
  {
   "cell_type": "code",
   "execution_count": 8,
   "metadata": {},
   "outputs": [
    {
     "data": {
      "application/json": "{\"rows\":[{\"Item1\":\"imoon\",\"Item2\":\"1.0.0.0\"},{\"Item1\":\"Jupyter Core\",\"Item2\":\"1.0.0.0\"},{\"Item1\":\"MoonScript\",\"Item2\":\"2.0.0.0\"}]}",
      "text/html": [
       "<table><thead><tr><th>Component</th><th>Version</th></tr></thead><tbody><tr><td>imoon</td><td>1.0.0.0</td></tr><tr><td>Jupyter Core</td><td>1.0.0.0</td></tr><tr><td>MoonScript</td><td>2.0.0.0</td></tr></tbody></table>"
      ],
      "text/markdown": [
       "`Microsoft.Jupyter.Core.Table`1[System.ValueTuple`2[System.String,System.String]]`"
      ],
      "text/plain": [
       "Component    Version\r\n",
       "------------ -------\r\n",
       "imoon        1.0.0.0\r\n",
       "Jupyter Core 1.0.0.0\r\n",
       "MoonScript   2.0.0.0\r\n"
      ]
     },
     "metadata": {},
     "output_type": "display_data"
    }
   ],
   "source": [
    "%version"
   ]
  },
  {
   "cell_type": "code",
   "execution_count": null,
   "metadata": {},
   "outputs": [],
   "source": []
  }
 ],
 "metadata": {
  "kernelspec": {
   "display_name": "imoon",
   "language": "Lua",
   "name": "imoon"
  },
  "language_info": {
   "file_extension": ".lua",
   "mimetype": "text/plain",
   "name": "Lua",
   "version": "0.1"
  }
 },
 "nbformat": 4,
 "nbformat_minor": 2
}
